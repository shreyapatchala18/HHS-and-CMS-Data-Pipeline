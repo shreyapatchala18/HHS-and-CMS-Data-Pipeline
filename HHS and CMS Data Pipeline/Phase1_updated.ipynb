{
    "metadata": {
        "kernelspec": {
            "name": "SQL",
            "display_name": "SQL",
            "language": "sql"
        },
        "language_info": {
            "name": "sql",
            "version": ""
        }
    },
    "nbformat_minor": 2,
    "nbformat": 4,
    "cells": [
        {
            "cell_type": "markdown",
            "source": [
                "## Entities"
            ],
            "metadata": {
                "azdata_cell_guid": "88d6f024-364b-4cec-a45d-895df0e628b4"
            },
            "attachments": {}
        },
        {
            "cell_type": "markdown",
            "source": [
                "We identified four basic entities in our schema:\n",
                "\n",
                "1. <span style=\"color: var(--vscode-foreground);\">Location</span>\n",
                "\n",
                "2\\. Hospital\n",
                "\n",
                "3\\. Hospital Quality\n",
                "\n",
                "4\\. Weekly Report\n",
                "\n",
                "We chose these entities to effectively separate information like hospital details and location from weekly reports and quality ratings. This approach reduces redundancy by making sure that each piece of information is stored only once."
            ],
            "metadata": {
                "azdata_cell_guid": "6c8be853-8102-440b-bc3f-f0442bf58a6a"
            },
            "attachments": {}
        },
        {
            "cell_type": "markdown",
            "source": [
                "## 1\\. Location"
            ],
            "metadata": {
                "azdata_cell_guid": "7fae0b3d-9bd6-47dc-b775-64806f46e0fe"
            },
            "attachments": {}
        },
        {
            "cell_type": "markdown",
            "source": [
                "Table to store unique location information:\n",
                "\n",
                " The 'Location' entity stores unique geographical information to avoid redundancy when multiple hospitals <span style=\"color: var(--vscode-foreground);\">share the same location details, which helps to minimize duplication.</span>"
            ],
            "metadata": {
                "azdata_cell_guid": "c3b5173d-1e58-4a4a-9c66-fb054f2d8642"
            },
            "attachments": {}
        },
        {
            "cell_type": "code",
            "source": [
                "CREATE TABLE location (\n",
                "    id SERIAL PRIMARY KEY,\n",
                "    city TEXT,\n",
                "    state TEXT,\n",
                "    zip_code TEXT,\n",
                "    address TEXT,\n",
                "    latitude FLOAT,\n",
                "    longitude FLOAT,\n",
                "    fips_code TEXT,\n",
                "    CONSTRAINT location_unique UNIQUE (city, state, zip_code, address, latitude, longitude)  -- Add unique constraint\n",
                ");"
            ],
            "metadata": {
                "azdata_cell_guid": "f77296f1-b507-4dc6-9a53-fa44802d7fec",
                "language": "sql"
            },
            "outputs": [
                {
                    "output_type": "display_data",
                    "data": {
                        "text/html": "CREATE TABLE"
                    },
                    "metadata": {}
                },
                {
                    "output_type": "display_data",
                    "data": {
                        "text/html": "Total execution time: 00:00:00.044"
                    },
                    "metadata": {}
                }
            ],
            "execution_count": 12
        },
        {
            "cell_type": "markdown",
            "source": [
                "## 2\\. Hospital"
            ],
            "metadata": {
                "azdata_cell_guid": "61d31ea5-ab04-470d-9c69-a63de462c0a9"
            },
            "attachments": {}
        },
        {
            "cell_type": "markdown",
            "source": [
                "Table for hospital information:\n",
                "\n",
                "<span style=\"color: var(--vscode-foreground);\">This table represents the 'Hospital' entity and stores information about each hospital.&nbsp;</span> <span style=\"color: var(--vscode-foreground);\">We use 'hospital_pk' as the primary key to uniquely identify each hospital.&nbsp;</span> <span style=\"color: var(--vscode-foreground);\">The 'location_id' is a foreign key referencing the 'location' table, linking each hospital to its location.</span>"
            ],
            "metadata": {
                "azdata_cell_guid": "469d7792-aace-476b-b63e-e9f4ae2bf322"
            },
            "attachments": {}
        },
        {
            "cell_type": "code",
            "source": [
                "CREATE TABLE hospital(\n",
                "    hospital_pk TEXT PRIMARY KEY,\n",
                "    hospital_name TEXT NOT NULL,\n",
                "    location_id INTEGER REFERENCES location(id) ON DELETE SET NULL\n",
                ");"
            ],
            "metadata": {
                "azdata_cell_guid": "77516cd0-bb86-48ae-9144-6e134f013b67",
                "language": "sql"
            },
            "outputs": [
                {
                    "output_type": "display_data",
                    "data": {
                        "text/html": "CREATE TABLE"
                    },
                    "metadata": {}
                },
                {
                    "output_type": "display_data",
                    "data": {
                        "text/html": "Total execution time: 00:00:00.030"
                    },
                    "metadata": {}
                }
            ],
            "execution_count": 13
        },
        {
            "cell_type": "markdown",
            "source": [
                "## 3\\. Hospital Quality"
            ],
            "metadata": {
                "azdata_cell_guid": "5b7563d9-7793-4db2-98cf-820435cb27ae"
            },
            "attachments": {}
        },
        {
            "cell_type": "markdown",
            "source": [
                "Table to store the quality ratings of each hospital:\n",
                "\n",
                "<span style=\"color: var(--vscode-foreground);\">This table keeps track of quality ratings for each hospital over time, where</span> <span style=\"color: var(--vscode-foreground);\">'facility_id' links back to the 'hospital' table.&nbsp;</span>   <span style=\"color: var(--vscode-foreground);\">We can see how a hospital's rating changes by date through this table.</span>"
            ],
            "metadata": {
                "azdata_cell_guid": "e9bd6c58-6ee6-4f02-9031-4f0c0f10b33c"
            },
            "attachments": {}
        },
        {
            "cell_type": "code",
            "source": [
                "CREATE TABLE hospital_quality (\n",
                "    id SERIAL PRIMARY KEY,\n",
                "    facility_id TEXT REFERENCES hospital(hospital_pk) ON DELETE CASCADE, \n",
                "    quality_rating INTEGER CHECK (quality_rating BETWEEN 1 AND 5),  -- Matches \"Hospital overall rating\" (1-5 scale)\n",
                "    rating_date DATE NOT NULL,  \n",
                "    ownership TEXT,           \n",
                "    hospital_type TEXT,         \n",
                "    provides_emergency_services BOOLEAN  \n",
                ");"
            ],
            "metadata": {
                "azdata_cell_guid": "f14e45d0-dafb-485e-b370-2766ba793319",
                "language": "sql"
            },
            "outputs": [
                {
                    "output_type": "display_data",
                    "data": {
                        "text/html": "CREATE TABLE"
                    },
                    "metadata": {}
                },
                {
                    "output_type": "display_data",
                    "data": {
                        "text/html": "Total execution time: 00:00:00.034"
                    },
                    "metadata": {}
                }
            ],
            "execution_count": 14
        },
        {
            "cell_type": "markdown",
            "source": [
                "## 4\\. Weekly Report"
            ],
            "metadata": {
                "azdata_cell_guid": "2c598435-8d34-42ac-bbfa-8cc1359d9b0c"
            },
            "attachments": {}
        },
        {
            "cell_type": "markdown",
            "source": [
                "Table to store weekly data reports for each hospital:\n",
                "\n",
                "This table stores weekly report dates for each hospital, where 'hospital\\_weekly\\_id' links to the 'hospital' table. We ensure there's only one report per hospital each week."
            ],
            "metadata": {
                "azdata_cell_guid": "7a8565bb-dca4-44be-b8a1-b99dbee12483"
            },
            "attachments": {}
        },
        {
            "cell_type": "code",
            "source": [
                "CREATE TABLE weekly_report (\n",
                "    id SERIAL PRIMARY KEY,\n",
                "    hospital_weekly_id TEXT REFERENCES hospital(hospital_pk) ON DELETE CASCADE,  \n",
                "    collection_week DATE NOT NULL,\n",
                "    all_adult_hospital_beds_7_day_avg FLOAT,  \n",
                "    all_pediatric_inpatient_beds_7_day_avg FLOAT,\n",
                "    total_icu_beds_7_day_avg FLOAT,\n",
                "    all_adult_hospital_inpatient_bed_occupied_7_day_avg FLOAT,  \n",
                "    all_pediatric_inpatient_bed_occupied_7_day_avg FLOAT,  \n",
                "    icu_beds_used_7_day_avg FLOAT, \n",
                "    inpatient_beds_used_covid_7_day_avg FLOAT,  \n",
                "    staffed_icu_adult_patients_confirmed_covid_7_day_avg FLOAT,  \n",
                "    UNIQUE(hospital_weekly_id, collection_week)  \n",
                ");"
            ],
            "metadata": {
                "azdata_cell_guid": "144c13b8-4d82-4347-bfcd-b15bc67ec8cc",
                "language": "sql"
            },
            "outputs": [
                {
                    "output_type": "display_data",
                    "data": {
                        "text/html": "CREATE TABLE"
                    },
                    "metadata": {}
                },
                {
                    "output_type": "display_data",
                    "data": {
                        "text/html": "Total execution time: 00:00:00.047"
                    },
                    "metadata": {}
                }
            ],
            "execution_count": 15
        },
        {
            "cell_type": "markdown",
            "source": [
                "## Summarizing relationships:"
            ],
            "metadata": {
                "azdata_cell_guid": "75b437fc-110c-47df-a84d-75ce32b8b99b"
            },
            "attachments": {}
        },
        {
            "cell_type": "markdown",
            "source": [
                "| Table | Primary Key | Foreign Key | Relationship |\n",
                "| --- | --- | --- | --- |\n",
                "| `location` | `id` | None | Standalone table for unique locations |\n",
                "| `hospital` | `hospital_pk` | `location_id` references `location(id)` | Links each hospital to a unique location |\n",
                "| `hospital_quality` | `id` | `facility_id` references `hospital(hospital_pk)` | Links each quality rating to a hospital |\n",
                "| `weekly_report` | `id` | `hospital_weekly_id` references `hospital(hospital_pk)` | Links each weekly report to a hospital |\n",
                "| <br> |  |  | <br> |"
            ],
            "metadata": {
                "azdata_cell_guid": "1d315a29-c7a2-4dd2-8990-24a3a53330c8"
            },
            "attachments": {}
        },
        {
            "cell_type": "markdown",
            "source": [
                "We designed our schema this way to separate data into different tables to keep things organized and avoid duplicates:\n",
                "\n",
                "\\- The 'hospital' table stores each hospital's info once.\n",
                "\n",
                "\\- The 'location' table holds location details that can be shared by multiple hospitals.\n",
                "\n",
                "\\- The 'hospital\\_quality' table tracks quality ratings over time without repeating hospital info.\n",
                "\n",
                "\\- The 'weekly\\_report' tables store time-based patient data linked to hospitals.\n",
                "\n",
                "By linking tables with foreign keys, we connect related data without storing the same information multiple times. This makes our database efficient and easier to maintain."
            ],
            "metadata": {
                "azdata_cell_guid": "a46afde9-7d7b-46d3-b31f-ab4aabd548a9"
            },
            "attachments": {}
        }
    ]
}